{
 "cells": [
  {
   "cell_type": "code",
   "execution_count": 1,
   "id": "fefa1a54",
   "metadata": {},
   "outputs": [],
   "source": [
    "%load_ext autoreload\n",
    "%autoreload 2\n",
    "%reload_ext autoreload"
   ]
  },
  {
   "cell_type": "code",
   "execution_count": 35,
   "id": "4213d346",
   "metadata": {},
   "outputs": [],
   "source": [
    "import random as ran\n",
    "from IPython.display import clear_output\n",
    "from src import spotify, dp, utils, DB\n",
    "\n",
    "db = DB()"
   ]
  },
  {
   "cell_type": "code",
   "execution_count": 36,
   "id": "b08b2c25",
   "metadata": {},
   "outputs": [],
   "source": [
    "genres_cat = ['k-pop', 'pop', 'hip-hop', 'ballad', 'jazz']\n",
    "\n",
    "genres_dict = dict({\n",
    "    \"k-pop\": \"3dbLT62Cvs46Ju7a8gpr36\",\n",
    "    \"pop\": \"3gzIK2dGSVvPBiohsTwEWZ\",\n",
    "    \"hip-hop\": \"2FWquqPNxte8iqZ3ATQG0p\",\n",
    "    \"ballad\": \"3UPjb91Fwm7u2tAm92Bk0p\",\n",
    "    \"jazz\": \"7tIOwGFRTM08JdAeKOELGp\"\n",
    "})"
   ]
  },
  {
   "cell_type": "code",
   "execution_count": 46,
   "id": "d6bf9f83",
   "metadata": {},
   "outputs": [
    {
     "data": {
      "text/plain": [
       "[['pop', 'jazz'],\n",
       " ['hip-hop', 'pop', 'k-pop'],\n",
       " ['ballad'],\n",
       " ['ballad'],\n",
       " ['pop', 'ballad', 'hip-hop'],\n",
       " ['pop', 'hip-hop', 'ballad'],\n",
       " ['pop', 'jazz'],\n",
       " ['hip-hop'],\n",
       " ['hip-hop', 'jazz'],\n",
       " ['k-pop', 'hip-hop', 'ballad']]"
      ]
     },
     "execution_count": 46,
     "metadata": {},
     "output_type": "execute_result"
    }
   ],
   "source": [
    "mail_box_seed_list = list()\n",
    "\n",
    "for _ in range(0, 10):\n",
    "    genre_cnt = ran.randrange(1, 4)\n",
    "    genre_cat = list()\n",
    "    \n",
    "    while len(genre_cat) != genre_cnt:\n",
    "        ran_genres_cat = genres_cat[\n",
    "            ran.randrange(0, len(genres_cat))\n",
    "        ]\n",
    "        \n",
    "        if ran_genres_cat not in genre_cat:\n",
    "            genre_cat.append(ran_genres_cat)\n",
    "\n",
    "    mail_box_seed_list.append(genre_cat)\n",
    "    \n",
    "mail_box_seed_list"
   ]
  },
  {
   "cell_type": "code",
   "execution_count": 54,
   "id": "c8bef8df",
   "metadata": {},
   "outputs": [
    {
     "name": "stdout",
     "output_type": "stream",
     "text": [
      "['623c3b95a96fb402f17e7195', '623c3b96a96fb402f17e7196', '623c3b96a96fb402f17e7197', '623c3b96a96fb402f17e7198', '623c3b96a96fb402f17e7199', '623c3b96a96fb402f17e719a', '623c3b97a96fb402f17e719b', '623c3b97a96fb402f17e719c', '623c3b97a96fb402f17e719d', '623c3b97a96fb402f17e719e']\n"
     ]
    },
    {
     "data": {
      "text/html": [
       "<div>\n",
       "<style scoped>\n",
       "    .dataframe tbody tr th:only-of-type {\n",
       "        vertical-align: middle;\n",
       "    }\n",
       "\n",
       "    .dataframe tbody tr th {\n",
       "        vertical-align: top;\n",
       "    }\n",
       "\n",
       "    .dataframe thead th {\n",
       "        text-align: right;\n",
       "    }\n",
       "</style>\n",
       "<table border=\"1\" class=\"dataframe\">\n",
       "  <thead>\n",
       "    <tr style=\"text-align: right;\">\n",
       "      <th></th>\n",
       "      <th>id</th>\n",
       "      <th>name</th>\n",
       "      <th>artists</th>\n",
       "      <th>artists_name</th>\n",
       "    </tr>\n",
       "  </thead>\n",
       "  <tbody>\n",
       "    <tr>\n",
       "      <th>0</th>\n",
       "      <td>3gzIK2dGSVvPBiohsTwEWZ</td>\n",
       "      <td>Easy</td>\n",
       "      <td>3WGpXCj9YhhfX11TToZcXP</td>\n",
       "      <td>Troye Sivan</td>\n",
       "    </tr>\n",
       "    <tr>\n",
       "      <th>1</th>\n",
       "      <td>7tIOwGFRTM08JdAeKOELGp</td>\n",
       "      <td>Blue room</td>\n",
       "      <td>3rxeQlsv0Sc2nyYaZ5W71T</td>\n",
       "      <td>Chet Baker</td>\n",
       "    </tr>\n",
       "  </tbody>\n",
       "</table>\n",
       "</div>"
      ],
      "text/plain": [
       "                       id       name                 artists artists_name\n",
       "0  3gzIK2dGSVvPBiohsTwEWZ       Easy  3WGpXCj9YhhfX11TToZcXP  Troye Sivan\n",
       "1  7tIOwGFRTM08JdAeKOELGp  Blue room  3rxeQlsv0Sc2nyYaZ5W71T   Chet Baker"
      ]
     },
     "execution_count": 54,
     "metadata": {},
     "output_type": "execute_result"
    }
   ],
   "source": [
    "# 1. Get Token\n",
    "token = spotify.get_token()\n",
    "\n",
    "mail_boxes_list = list()\n",
    "sel_track_list = list()\n",
    "sel_tracks = pd.DataFrame()\n",
    "\n",
    "for box_seed in mail_box_seed_list:\n",
    "    sel_tracks = pd.DataFrame()\n",
    "    \n",
    "    for seed_genre in box_seed:\n",
    "        seed_id = genres_dict[seed_genre]\n",
    "        \n",
    "        sel_tracks = sel_tracks.append(spotify.direct_sel(token, seed_id), ignore_index=True)\n",
    "    \n",
    "    sel_track_list.append(sel_tracks)\n",
    "    mail_box_id = str(db.regist_mail_box(sel_tracks).inserted_id)\n",
    "    \n",
    "    mail_boxes_list.append(mail_box_id)\n",
    "\n",
    "print(mail_boxes_list)\n",
    "sel_track_list[0]"
   ]
  },
  {
   "cell_type": "code",
   "execution_count": null,
   "id": "339d7d3b",
   "metadata": {},
   "outputs": [],
   "source": []
  }
 ],
 "metadata": {
  "kernelspec": {
   "display_name": "Python 3 (ipykernel)",
   "language": "python",
   "name": "python3"
  },
  "language_info": {
   "codemirror_mode": {
    "name": "ipython",
    "version": 3
   },
   "file_extension": ".py",
   "mimetype": "text/x-python",
   "name": "python",
   "nbconvert_exporter": "python",
   "pygments_lexer": "ipython3",
   "version": "3.8.12"
  }
 },
 "nbformat": 4,
 "nbformat_minor": 5
}
