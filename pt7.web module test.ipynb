{
 "cells": [
  {
   "cell_type": "code",
   "execution_count": 137,
   "id": "ca5df1fc",
   "metadata": {},
   "outputs": [
    {
     "name": "stdout",
     "output_type": "stream",
     "text": [
      "The autoreload extension is already loaded. To reload it, use:\n",
      "  %reload_ext autoreload\n"
     ]
    }
   ],
   "source": [
    "%load_ext autoreload\n",
    "%autoreload 2\n",
    "%reload_ext autoreload\n",
    "\n",
    "from web import Recommender\n",
    "reco = Recommender(_id=\"6252aa13065072f065307c62\")"
   ]
  },
  {
   "cell_type": "code",
   "execution_count": 138,
   "id": "ce83a718",
   "metadata": {},
   "outputs": [
    {
     "name": "stdout",
     "output_type": "stream",
     "text": [
      "[ML Program] Spotify Setting Okay :)\n"
     ]
    },
    {
     "data": {
      "text/html": [
       "<div>\n",
       "<style scoped>\n",
       "    .dataframe tbody tr th:only-of-type {\n",
       "        vertical-align: middle;\n",
       "    }\n",
       "\n",
       "    .dataframe tbody tr th {\n",
       "        vertical-align: top;\n",
       "    }\n",
       "\n",
       "    .dataframe thead th {\n",
       "        text-align: right;\n",
       "    }\n",
       "</style>\n",
       "<table border=\"1\" class=\"dataframe\">\n",
       "  <thead>\n",
       "    <tr style=\"text-align: right;\">\n",
       "      <th></th>\n",
       "      <th>artistIds</th>\n",
       "      <th>artistNames</th>\n",
       "      <th>image</th>\n",
       "      <th>trackId</th>\n",
       "      <th>trackName</th>\n",
       "    </tr>\n",
       "  </thead>\n",
       "  <tbody>\n",
       "    <tr>\n",
       "      <th>0</th>\n",
       "      <td>3HqSLMAZ3g3d5poNaI7GOU</td>\n",
       "      <td>IU</td>\n",
       "      <td>https://i.scdn.co/image/ab67616d0000b2730d378c...</td>\n",
       "      <td>2y4hHM6c48Qzk0bqh33XfB</td>\n",
       "      <td>Winter Sleep</td>\n",
       "    </tr>\n",
       "    <tr>\n",
       "      <th>1</th>\n",
       "      <td>6zn0ihyAApAYV51zpXxdEp</td>\n",
       "      <td>10cm</td>\n",
       "      <td>https://i.scdn.co/image/ab67616d0000b273b22853...</td>\n",
       "      <td>1OQ3PoRZRtE7RH0NIh3p1O</td>\n",
       "      <td>Drawer</td>\n",
       "    </tr>\n",
       "  </tbody>\n",
       "</table>\n",
       "</div>"
      ],
      "text/plain": [
       "                artistIds artistNames  \\\n",
       "0  3HqSLMAZ3g3d5poNaI7GOU          IU   \n",
       "1  6zn0ihyAApAYV51zpXxdEp        10cm   \n",
       "\n",
       "                                               image                 trackId  \\\n",
       "0  https://i.scdn.co/image/ab67616d0000b2730d378c...  2y4hHM6c48Qzk0bqh33XfB   \n",
       "1  https://i.scdn.co/image/ab67616d0000b273b22853...  1OQ3PoRZRtE7RH0NIh3p1O   \n",
       "\n",
       "      trackName  \n",
       "0  Winter Sleep  \n",
       "1        Drawer  "
      ]
     },
     "execution_count": 138,
     "metadata": {},
     "output_type": "execute_result"
    }
   ],
   "source": [
    "reco.init_setting()\n",
    "reco.spotify.sel_tracks.head()"
   ]
  }
 ],
 "metadata": {
  "kernelspec": {
   "display_name": "Python 3 (ipykernel)",
   "language": "python",
   "name": "python3"
  },
  "language_info": {
   "codemirror_mode": {
    "name": "ipython",
    "version": 3
   },
   "file_extension": ".py",
   "mimetype": "text/x-python",
   "name": "python",
   "nbconvert_exporter": "python",
   "pygments_lexer": "ipython3",
   "version": "3.8.12"
  }
 },
 "nbformat": 4,
 "nbformat_minor": 5
}
