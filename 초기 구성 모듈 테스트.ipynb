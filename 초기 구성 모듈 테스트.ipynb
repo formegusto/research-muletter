{
 "cells": [
  {
   "cell_type": "code",
   "execution_count": 35,
   "id": "caaec5da",
   "metadata": {},
   "outputs": [],
   "source": [
    "from src import spotify"
   ]
  },
  {
   "cell_type": "code",
   "execution_count": 37,
   "id": "623bc2ae",
   "metadata": {},
   "outputs": [],
   "source": [
    "token = spotify.get_token()"
   ]
  },
  {
   "cell_type": "code",
   "execution_count": null,
   "id": "cbb6349c",
   "metadata": {},
   "outputs": [],
   "source": []
  }
 ],
 "metadata": {
  "kernelspec": {
   "display_name": "Python 3 (ipykernel)",
   "language": "python",
   "name": "python3"
  },
  "language_info": {
   "codemirror_mode": {
    "name": "ipython",
    "version": 3
   },
   "file_extension": ".py",
   "mimetype": "text/x-python",
   "name": "python",
   "nbconvert_exporter": "python",
   "pygments_lexer": "ipython3",
   "version": "3.8.12"
  }
 },
 "nbformat": 4,
 "nbformat_minor": 5
}
