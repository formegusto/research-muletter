{
 "cells": [
  {
   "cell_type": "code",
   "execution_count": 1,
   "id": "031caa03",
   "metadata": {},
   "outputs": [],
   "source": [
    "import json"
   ]
  },
  {
   "cell_type": "code",
   "execution_count": 4,
   "id": "8301ba27",
   "metadata": {},
   "outputs": [
    {
     "name": "stdout",
     "output_type": "stream",
     "text": [
      "c660cb528ca34000bda23e6d76f28f8c\n"
     ]
    }
   ],
   "source": [
    "\n",
    "\n",
    "with open(\"auth.json\") as json_file:\n",
    "    json_data = json.load(json_file)"
   ]
  },
  {
   "cell_type": "code",
   "execution_count": 6,
   "id": "e9156bd0",
   "metadata": {},
   "outputs": [],
   "source": [
    "import requests as req"
   ]
  },
  {
   "cell_type": "code",
   "execution_count": 7,
   "id": "38bcd69b",
   "metadata": {},
   "outputs": [],
   "source": [
    "import base64"
   ]
  },
  {
   "cell_type": "code",
   "execution_count": 24,
   "id": "a9802d10",
   "metadata": {},
   "outputs": [],
   "source": [
    "client_data = \"{}:{}\".format(\n",
    "    json_data['CLIENT_ID'],\n",
    "    json_data['CLIENT_SECRET']\n",
    ")\n",
    "authorization = \"Basic \" + base64.b64encode(client_data.encode('ascii')).decode(\"ascii\")\n",
    "\n",
    "res = req.post(\"https://accounts.spotify.com/api/token\", \n",
    "               data={\n",
    "                 \"grant_type\": 'client_credentials'  \n",
    "               },\n",
    "               headers={\n",
    "                    'Authorization': authorization\n",
    "                })"
   ]
  },
  {
   "cell_type": "code",
   "execution_count": 26,
   "id": "f2cee3f1",
   "metadata": {},
   "outputs": [
    {
     "data": {
      "text/plain": [
       "{'access_token': 'BQDGRYDwGXamzYA75xMCSKtbR0z-68XMYh8Fm0cskcubqOGPhiuFTXqpDpafeqUXF0GbM8GGe76-qn0oR4Y',\n",
       " 'token_type': 'Bearer',\n",
       " 'expires_in': 3600}"
      ]
     },
     "execution_count": 26,
     "metadata": {},
     "output_type": "execute_result"
    }
   ],
   "source": [
    "res.json()"
   ]
  },
  {
   "cell_type": "code",
   "execution_count": 28,
   "id": "e9a45405",
   "metadata": {},
   "outputs": [],
   "source": [
    "from src import spotify"
   ]
  },
  {
   "cell_type": "code",
   "execution_count": 34,
   "id": "94c64552",
   "metadata": {},
   "outputs": [
    {
     "data": {
      "text/plain": [
       "{'access_token': 'BQCgw3NasjOy10IeNwxWJh6nTQEEviNZyUKUjNfcFWBygeg7junIr9Ay87e4Y3hcr1kQjo1T-Pgv3IFQXzc',\n",
       " 'token_type': 'Bearer',\n",
       " 'expires_in': 3600}"
      ]
     },
     "execution_count": 34,
     "metadata": {},
     "output_type": "execute_result"
    }
   ],
   "source": [
    "spotify.get_token()"
   ]
  },
  {
   "cell_type": "code",
   "execution_count": null,
   "id": "27d91629",
   "metadata": {},
   "outputs": [],
   "source": []
  }
 ],
 "metadata": {
  "kernelspec": {
   "display_name": "Python 3 (ipykernel)",
   "language": "python",
   "name": "python3"
  },
  "language_info": {
   "codemirror_mode": {
    "name": "ipython",
    "version": 3
   },
   "file_extension": ".py",
   "mimetype": "text/x-python",
   "name": "python",
   "nbconvert_exporter": "python",
   "pygments_lexer": "ipython3",
   "version": "3.8.12"
  }
 },
 "nbformat": 4,
 "nbformat_minor": 5
}
