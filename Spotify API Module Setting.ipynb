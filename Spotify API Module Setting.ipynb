{
 "cells": [
  {
   "cell_type": "code",
   "execution_count": 30,
   "id": "fb43ac69",
   "metadata": {},
   "outputs": [],
   "source": [
    "%load_ext autoreload\n",
    "%autoreload 2\n",
    "%reload_ext autoreload"
   ]
  },
  {
   "cell_type": "code",
   "execution_count": 31,
   "id": "a20f6395",
   "metadata": {},
   "outputs": [],
   "source": [
    "from src import spotify"
   ]
  },
  {
   "cell_type": "code",
   "execution_count": 32,
   "id": "8e68ed15",
   "metadata": {},
   "outputs": [],
   "source": [
    "token = spotify.get_token()"
   ]
  },
  {
   "cell_type": "code",
   "execution_count": null,
   "id": "d0e2c970",
   "metadata": {},
   "outputs": [],
   "source": [
    "sel_tracks = spotify.search_tracks(token)\n",
    "\n",
    "sel_tracks.head()"
   ]
  },
  {
   "cell_type": "code",
   "execution_count": null,
   "id": "c6cf6625",
   "metadata": {},
   "outputs": [],
   "source": []
  }
 ],
 "metadata": {
  "kernelspec": {
   "display_name": "Python 3 (ipykernel)",
   "language": "python",
   "name": "python3"
  },
  "language_info": {
   "codemirror_mode": {
    "name": "ipython",
    "version": 3
   },
   "file_extension": ".py",
   "mimetype": "text/x-python",
   "name": "python",
   "nbconvert_exporter": "python",
   "pygments_lexer": "ipython3",
   "version": "3.8.12"
  }
 },
 "nbformat": 4,
 "nbformat_minor": 5
}
