{
 "cells": [
  {
   "cell_type": "code",
   "execution_count": 30,
   "id": "df1e4bab",
   "metadata": {},
   "outputs": [],
   "source": [
    "%load_ext autoreload\n",
    "%autoreload 2\n",
    "%reload_ext autoreload"
   ]
  },
  {
   "cell_type": "code",
   "execution_count": 31,
   "id": "a20f6395",
   "metadata": {},
   "outputs": [],
   "source": [
    "from src import spotify"
   ]
  },
  {
   "cell_type": "code",
   "execution_count": 32,
   "id": "8e68ed15",
   "metadata": {},
   "outputs": [],
   "source": [
    "token = spotify.get_token()"
   ]
  },
  {
   "cell_type": "markdown",
   "id": "865d20e4",
   "metadata": {},
   "source": [
    "## Select Tracks"
   ]
  },
  {
   "cell_type": "code",
   "execution_count": 39,
   "id": "d0e2c970",
   "metadata": {},
   "outputs": [
    {
     "name": "stdout",
     "output_type": "stream",
     "text": [
      "계속하시려면 next, 종료는 exit를 입력해주세요.exit\n"
     ]
    },
    {
     "data": {
      "text/html": [
       "<div>\n",
       "<style scoped>\n",
       "    .dataframe tbody tr th:only-of-type {\n",
       "        vertical-align: middle;\n",
       "    }\n",
       "\n",
       "    .dataframe tbody tr th {\n",
       "        vertical-align: top;\n",
       "    }\n",
       "\n",
       "    .dataframe thead th {\n",
       "        text-align: right;\n",
       "    }\n",
       "</style>\n",
       "<table border=\"1\" class=\"dataframe\">\n",
       "  <thead>\n",
       "    <tr style=\"text-align: right;\">\n",
       "      <th></th>\n",
       "      <th>id</th>\n",
       "      <th>name</th>\n",
       "      <th>artists</th>\n",
       "      <th>artists id</th>\n",
       "    </tr>\n",
       "  </thead>\n",
       "  <tbody>\n",
       "    <tr>\n",
       "      <th>0</th>\n",
       "      <td>2FWquqPNxte8iqZ3ATQG0p</td>\n",
       "      <td>All I Wanna Do (K) (Feat. Hoody &amp; Loco)</td>\n",
       "      <td>Jay Park</td>\n",
       "      <td>4XDi67ZENZcbfKnvMnTYsI</td>\n",
       "    </tr>\n",
       "    <tr>\n",
       "      <th>1</th>\n",
       "      <td>4as4XEOR03oGm1STUKl6pa</td>\n",
       "      <td>BBIBBI</td>\n",
       "      <td>IU</td>\n",
       "      <td>3HqSLMAZ3g3d5poNaI7GOU</td>\n",
       "    </tr>\n",
       "    <tr>\n",
       "      <th>2</th>\n",
       "      <td>049M1ZP4H2B13yB2ax6N7l</td>\n",
       "      <td>그대라는 시</td>\n",
       "      <td>TAEYEON</td>\n",
       "      <td>3qNVuliS40BLgXGxhdBdqu</td>\n",
       "    </tr>\n",
       "    <tr>\n",
       "      <th>3</th>\n",
       "      <td>3mNbGPCLCxia3yvwWp2P51</td>\n",
       "      <td>It Takes Time</td>\n",
       "      <td>Loco</td>\n",
       "      <td>2e4G04F77jxVuDYo44TCSm</td>\n",
       "    </tr>\n",
       "  </tbody>\n",
       "</table>\n",
       "</div>"
      ],
      "text/plain": [
       "                       id                                     name   artists  \\\n",
       "0  2FWquqPNxte8iqZ3ATQG0p  All I Wanna Do (K) (Feat. Hoody & Loco)  Jay Park   \n",
       "1  4as4XEOR03oGm1STUKl6pa                                   BBIBBI        IU   \n",
       "2  049M1ZP4H2B13yB2ax6N7l                                   그대라는 시   TAEYEON   \n",
       "3  3mNbGPCLCxia3yvwWp2P51                            It Takes Time      Loco   \n",
       "\n",
       "               artists id  \n",
       "0  4XDi67ZENZcbfKnvMnTYsI  \n",
       "1  3HqSLMAZ3g3d5poNaI7GOU  \n",
       "2  3qNVuliS40BLgXGxhdBdqu  \n",
       "3  2e4G04F77jxVuDYo44TCSm  "
      ]
     },
     "execution_count": 39,
     "metadata": {},
     "output_type": "execute_result"
    }
   ],
   "source": [
    "sel_tracks = spotify.search_tracks(token)\n",
    "\n",
    "sel_tracks.head()"
   ]
  },
  {
   "cell_type": "markdown",
   "id": "290e64b1",
   "metadata": {},
   "source": [
    "## get genres"
   ]
  },
  {
   "cell_type": "code",
   "execution_count": null,
   "id": "d2931ca9",
   "metadata": {},
   "outputs": [],
   "source": []
  },
  {
   "cell_type": "code",
   "execution_count": 57,
   "id": "43890978",
   "metadata": {},
   "outputs": [
    {
     "data": {
      "text/plain": [
       "'4XDi67ZENZcbfKnvMnTYsI,3HqSLMAZ3g3d5poNaI7GOU,3qNVuliS40BLgXGxhdBdqu,2e4G04F77jxVuDYo44TCSm'"
      ]
     },
     "execution_count": 57,
     "metadata": {},
     "output_type": "execute_result"
    }
   ],
   "source": [
    "artists_uri = \"https://api.spotify.com/v1/artists\"\n",
    "\n",
    "ids = \"\"\n",
    "for artist_id in sel_tracks['artists id']:\n",
    "    split_data = artist_id.split(\",\")\n",
    "    \n",
    "    for _ in split_data:\n",
    "        ids += \"{},\".format(_)\n",
    "\n",
    "ids = ids[:-1]\n",
    "ids"
   ]
  },
  {
   "cell_type": "code",
   "execution_count": 69,
   "id": "f9ce6096",
   "metadata": {},
   "outputs": [],
   "source": [
    "query = urlencode({\n",
    "            \"ids\": ids\n",
    "        })\n",
    "headers = {\n",
    "    \"authorization\": \"Bearer {}\".format(token['access_token'])\n",
    "}\n",
    "\n",
    "res = req.get(\"{}?{}\".format(artists_uri, query), headers=headers)"
   ]
  },
  {
   "cell_type": "code",
   "execution_count": 71,
   "id": "96989368",
   "metadata": {},
   "outputs": [],
   "source": [
    "result = res.json()"
   ]
  },
  {
   "cell_type": "code",
   "execution_count": 93,
   "id": "c9bc238f",
   "metadata": {},
   "outputs": [
    {
     "data": {
      "text/html": [
       "<div>\n",
       "<style scoped>\n",
       "    .dataframe tbody tr th:only-of-type {\n",
       "        vertical-align: middle;\n",
       "    }\n",
       "\n",
       "    .dataframe tbody tr th {\n",
       "        vertical-align: top;\n",
       "    }\n",
       "\n",
       "    .dataframe thead th {\n",
       "        text-align: right;\n",
       "    }\n",
       "</style>\n",
       "<table border=\"1\" class=\"dataframe\">\n",
       "  <thead>\n",
       "    <tr style=\"text-align: right;\">\n",
       "      <th></th>\n",
       "      <th>count</th>\n",
       "    </tr>\n",
       "  </thead>\n",
       "  <tbody>\n",
       "    <tr>\n",
       "      <th>k-pop</th>\n",
       "      <td>4</td>\n",
       "    </tr>\n",
       "    <tr>\n",
       "      <th>k-rap</th>\n",
       "      <td>2</td>\n",
       "    </tr>\n",
       "    <tr>\n",
       "      <th>korean r&amp;b</th>\n",
       "      <td>2</td>\n",
       "    </tr>\n",
       "  </tbody>\n",
       "</table>\n",
       "</div>"
      ],
      "text/plain": [
       "           count\n",
       "k-pop          4\n",
       "k-rap          2\n",
       "korean r&b     2"
      ]
     },
     "execution_count": 93,
     "metadata": {},
     "output_type": "execute_result"
    }
   ],
   "source": [
    "artists = result['artists']\n",
    "genres = pd.DataFrame(columns=['count'])\n",
    "\n",
    "for artist in artists:\n",
    "    _genres = artist['genres']\n",
    "    \n",
    "    for genre in _genres:\n",
    "        if genre in genres.index:\n",
    "            genres.loc[genre]['count'] += 1\n",
    "        else:\n",
    "            genres.loc[genre] = 1\n",
    "            \n"
   ]
  },
  {
   "cell_type": "code",
   "execution_count": 88,
   "id": "83ab59b1",
   "metadata": {},
   "outputs": [
    {
     "data": {
      "text/plain": [
       "True"
      ]
     },
     "execution_count": 88,
     "metadata": {},
     "output_type": "execute_result"
    }
   ],
   "source": []
  },
  {
   "cell_type": "code",
   "execution_count": null,
   "id": "cf831124",
   "metadata": {},
   "outputs": [],
   "source": []
  }
 ],
 "metadata": {
  "kernelspec": {
   "display_name": "Python 3 (ipykernel)",
   "language": "python",
   "name": "python3"
  },
  "language_info": {
   "codemirror_mode": {
    "name": "ipython",
    "version": 3
   },
   "file_extension": ".py",
   "mimetype": "text/x-python",
   "name": "python",
   "nbconvert_exporter": "python",
   "pygments_lexer": "ipython3",
   "version": "3.8.12"
  }
 },
 "nbformat": 4,
 "nbformat_minor": 5
}
